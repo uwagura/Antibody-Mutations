{
 "cells": [
  {
   "cell_type": "code",
   "execution_count": 12,
   "id": "df958ef4-c18d-40b5-8a0e-7e4b688f4a97",
   "metadata": {},
   "outputs": [],
   "source": [
    "import torch\n",
    "import esm\n",
    "import h5py\n",
    "import Bio.PDB as pdbp"
   ]
  },
  {
   "cell_type": "code",
   "execution_count": 13,
   "id": "52583cb0-4994-4ac1-ab9c-bc80a95b5b8f",
   "metadata": {},
   "outputs": [
    {
     "name": "stderr",
     "output_type": "stream",
     "text": [
      "/gscratch/spe/uwagura/miniconda3/envs/prot_analysis_env/lib/python3.10/site-packages/Bio/PDB/StructureBuilder.py:89: PDBConstructionWarning: WARNING: Chain A is discontinuous at line 7136.\n",
      "  warnings.warn(\n",
      "/gscratch/spe/uwagura/miniconda3/envs/prot_analysis_env/lib/python3.10/site-packages/Bio/PDB/StructureBuilder.py:89: PDBConstructionWarning: WARNING: Chain B is discontinuous at line 7175.\n",
      "  warnings.warn(\n",
      "/gscratch/spe/uwagura/miniconda3/envs/prot_analysis_env/lib/python3.10/site-packages/Bio/PDB/StructureBuilder.py:89: PDBConstructionWarning: WARNING: Chain C is discontinuous at line 7201.\n",
      "  warnings.warn(\n",
      "/gscratch/spe/uwagura/miniconda3/envs/prot_analysis_env/lib/python3.10/site-packages/Bio/PDB/StructureBuilder.py:89: PDBConstructionWarning: WARNING: Chain D is discontinuous at line 7245.\n",
      "  warnings.warn(\n"
     ]
    }
   ],
   "source": [
    "reader = pdbp.PDBParser()\n",
    "struc = reader.get_structure(\"1AD0\",\"../pdbs/1AD0.pdb\")"
   ]
  }
 ],
 "metadata": {
  "kernelspec": {
   "display_name": "prot_analysis_env",
   "language": "python",
   "name": "prot_analysis_env"
  },
  "language_info": {
   "codemirror_mode": {
    "name": "ipython",
    "version": 3
   },
   "file_extension": ".py",
   "mimetype": "text/x-python",
   "name": "python",
   "nbconvert_exporter": "python",
   "pygments_lexer": "ipython3",
   "version": "3.10.4"
  }
 },
 "nbformat": 4,
 "nbformat_minor": 5
}
